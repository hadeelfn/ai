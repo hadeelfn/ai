{
 "cells": [
  {
   "cell_type": "markdown",
   "metadata": {},
   "source": [
    "# Fuzzy"
   ]
  },
  {
   "cell_type": "code",
   "execution_count": 17,
   "metadata": {
    "collapsed": true
   },
   "outputs": [],
   "source": [
    "import numpy as np #library numpy is used in array(manipulation and compilation).\n",
    "import matplotlib.pyplot as plt #it will automatically  create the necessary figure and axes to achieve the desired plot.\n",
    "%matplotlib inline\n",
    "# even the output of plotting commands is displayed inline within cell (حتى ما تطلع الرسمه برا النوت)#"
   ]
  },
  {
   "cell_type": "code",
   "execution_count": 25,
   "metadata": {
    "collapsed": true
   },
   "outputs": [],
   "source": [
    "def trapezoid(x,a,b,c,d): # This function defined by a lower limit a, an upper limit d, a lower support limit b,\n",
    "    #and an upper support limit c, where a < b < c < d.\n",
    "    if (x <=a ):\n",
    "        m=0\n",
    "    elif (x> a and x<b):\n",
    "        m=(x-a)/(b-a)\n",
    "       \n",
    "    elif (x>= b and x<=c):\n",
    "        m=1\n",
    "    elif (x>c and x<d):\n",
    "        m=(d-x)/(d-c)\n",
    "    elif(x>=d):\n",
    "        m=0       \n",
    "    return m"
   ]
  },
  {
   "cell_type": "code",
   "execution_count": 26,
   "metadata": {
    "collapsed": true
   },
   "outputs": [],
   "source": [
    "def triangle(x,a,b,c):#This function defined by a lower limit a, an upper limit b, and a value m, where a < m < b\n",
    "    if(x <= a):\n",
    "        m=0\n",
    "    elif(x>=a and x<=b):\n",
    "        m=(x-a)/(b-a)\n",
    "    elif(x>=b and x<=c):\n",
    "        m=(c-x)/(c-b)\n",
    "    elif(x>c):\n",
    "        m=0\n",
    "    return m"
   ]
  },
  {
   "cell_type": "code",
   "execution_count": 27,
   "metadata": {
    "collapsed": true
   },
   "outputs": [],
   "source": [
    "hieght=[i for i in range(150, 211)] #a list of lingth"
   ]
  },
  {
   "cell_type": "code",
   "execution_count": null,
   "metadata": {},
   "outputs": [],
   "source": []
  },
  {
   "cell_type": "code",
   "execution_count": 38,
   "metadata": {
    "collapsed": true
   },
   "outputs": [],
   "source": [
    "yshort=[] #shortSet\n",
    "for x in hieght:\n",
    "    yshort.append(trapezoid(x,140,150,160,170)) "
   ]
  },
  {
   "cell_type": "code",
   "execution_count": 39,
   "metadata": {
    "collapsed": true
   },
   "outputs": [],
   "source": [
    "yaverage=[] #AverageSet(triangle)\n",
    "for x in hieght:\n",
    "    yaverage.append(triangle(x,165,175,185))"
   ]
  },
  {
   "cell_type": "code",
   "execution_count": 40,
   "metadata": {
    "collapsed": true
   },
   "outputs": [],
   "source": [
    "ytall=[] #tall set\n",
    "for x in hieght:\n",
    "    ytall.append(trapezoid(x,180,190,210,220))"
   ]
  },
  {
   "cell_type": "code",
   "execution_count": 46,
   "metadata": {},
   "outputs": [
    {
     "data": {
      "text/plain": [
       "<function matplotlib.pyplot.show>"
      ]
     },
     "execution_count": 46,
     "metadata": {},
     "output_type": "execute_result"
    },
    {
     "data": {
      "image/png": "[encoded data removed]",
      "text/plain": [
       "<matplotlib.figure.Figure at 0x1ecc4091860>"
      ]
     },
     "metadata": {},
     "output_type": "display_data"
    }
   ],
   "source": [
    "_=plt.plot(hieght,yshort,color='blue')\n",
    "_=plt.plot(hieght,yaverage,color='red')\n",
    "_=plt.plot(hieght,ytall,color='green')\n",
    "_ = plt.legend(('Short', 'Average', 'Tall'), loc='lower right')\n",
    "_=plt.xlabel('Height')\n",
    "_=plt.ylabel('Membership Function')\n",
    "plt.axvline(x=183,color='yellow' ) #to select X\n",
    "plt.show"
   ]
  },
  {
   "cell_type": "code",
   "execution_count": null,
   "metadata": {
    "collapsed": true
   },
   "outputs": [],
   "source": []
  },
  {
   "cell_type": "code",
   "execution_count": null,
   "metadata": {
    "collapsed": true
   },
   "outputs": [],
   "source": []
  }
 ],
 "metadata": {
  "kernelspec": {
   "display_name": "Python 3",
   "language": "python",
   "name": "python3"
  },
  "language_info": {
   "codemirror_mode": {
    "name": "ipython",
    "version": 3
   },
   "file_extension": ".py",
   "mimetype": "text/x-python",
   "name": "python",
   "nbconvert_exporter": "python",
   "pygments_lexer": "ipython3",
   "version": "3.6.1"
  }
 },
 "nbformat": 4,
 "nbformat_minor": 2
}
