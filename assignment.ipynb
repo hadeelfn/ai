{
 "cells": [
  {
   "cell_type": "code",
   "execution_count": 26,
   "metadata": {},
   "outputs": [
    {
     "data": {
      "text/plain": [
       "'Washington, DC'"
      ]
     },
     "execution_count": 26,
     "metadata": {},
     "output_type": "execute_result"
    }
   ],
   "source": [
    "capitals = {'United States': 'Washington, DC','Italy': 'Rome','Brussels':'Denmark','Finland':'Helsinki', 'France' : \"Paris\", \"Slovakia\":\"Bratislava\", \"Slovenia\":\"Ljubljana\", \"Germany\" : \"Berlin\", \"Greece\" : \"Athens\", \"Ireland\":\"Dublin\"}\n",
    "capitals['United States']\n"
   ]
  },
  {
   "cell_type": "code",
   "execution_count": 7,
   "metadata": {},
   "outputs": [
    {
     "name": "stdout",
     "output_type": "stream",
     "text": [
      "United States : Washington, DC\n",
      "Italy : Rome\n",
      "Brussels : Denmark\n",
      "Finland : Helsinki\n",
      "France : Paris\n",
      "Slovakia : Bratislava\n",
      "Slovenia : Ljubljana\n",
      "Germany : Berlin\n",
      "Greece : Athens\n",
      "Ireland : Dublin\n"
     ]
    }
   ],
   "source": [
    "for index  in capitals:\n",
    "    print( index, \":\" ,capitals[index]  )\n",
    "    "
   ]
  },
  {
   "cell_type": "code",
   "execution_count": 9,
   "metadata": {
    "collapsed": true
   },
   "outputs": [],
   "source": [
    "c = {capitals[key]: key for key in capitals}\n"
   ]
  },
  {
   "cell_type": "code",
   "execution_count": 21,
   "metadata": {},
   "outputs": [],
   "source": [
    "a = []\n",
    "b=[]\n",
    "for key in capitals:\n",
    "    a.append(key)\n",
    "    b.append(capitals[key])\n",
    "\n",
    "    \n",
    "    "
   ]
  },
  {
   "cell_type": "code",
   "execution_count": 25,
   "metadata": {},
   "outputs": [
    {
     "name": "stdout",
     "output_type": "stream",
     "text": [
      "United States : Washington, DC\n",
      "Italy : Rome\n",
      "Brussels : Denmark\n",
      "Finland : Helsinki\n",
      "France : Paris\n",
      "Slovakia : Bratislava\n",
      "Slovenia : Ljubljana\n",
      "Germany : Berlin\n",
      "Greece : Athens\n",
      "Ireland : Dublin\n"
     ]
    }
   ],
   "source": [
    "for i in range(10):\n",
    "    print(a[i] , \":\" , b[i])"
   ]
  },
  {
   "cell_type": "code",
   "execution_count": 23,
   "metadata": {},
   "outputs": [
    {
     "data": {
      "text/plain": [
       "['Washington, DC',\n",
       " 'Rome',\n",
       " 'Denmark',\n",
       " 'Helsinki',\n",
       " 'Paris',\n",
       " 'Bratislava',\n",
       " 'Ljubljana',\n",
       " 'Berlin',\n",
       " 'Athens',\n",
       " 'Dublin']"
      ]
     },
     "execution_count": 23,
     "metadata": {},
     "output_type": "execute_result"
    }
   ],
   "source": [
    "b"
   ]
  },
  {
   "cell_type": "code",
   "execution_count": null,
   "metadata": {
    "collapsed": true
   },
   "outputs": [],
   "source": []
  }
 ],
 "metadata": {
  "kernelspec": {
   "display_name": "Python 3",
   "language": "python",
   "name": "python3"
  },
  "language_info": {
   "codemirror_mode": {
    "name": "ipython",
    "version": 3
   },
   "file_extension": ".py",
   "mimetype": "text/x-python",
   "name": "python",
   "nbconvert_exporter": "python",
   "pygments_lexer": "ipython3",
   "version": "3.6.1"
  }
 },
 "nbformat": 4,
 "nbformat_minor": 2
}
